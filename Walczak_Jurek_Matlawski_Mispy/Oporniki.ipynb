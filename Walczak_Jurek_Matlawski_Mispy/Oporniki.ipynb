{
 "cells": [
  {
   "cell_type": "markdown",
   "metadata": {},
   "source": [
    "W sklepie ze zdrową żywnością wytwarza się produkty dżem jabłkowy i mus jabłkowy. Wytworzenie jednostki produktu I wymaga zużycia 8 jabłek i 5 łyżek miodu, zaś jednostki musu - 2 jabłek i 5 łyżek miodu. Dostawy surowców w każdym dniu wynosza dla jabłek i miodu odpowiednio 40 i 25 jednostek. Dżem sprzedaje się po 12 zł a mus po 11 zł. Jabłko kosztuje 0.3 zł, łyżka miodu 0.2. \n",
    "\n",
    "Określ dzienną produkcję każdego produktu tak, aby otrzymać maksymalny zysk. Dla dwóch przypadków:\n",
    "\n",
    "- ( HURT) wielkość produkcji można wyrazić jako nieujemne liczby rzeczywiste ( np 1.2 kg dżemu)\n",
    "\n",
    "- (DETAL) wielkości produkcji mierzy się w jednostkach niepodzielnych ( 1 słoik dżemu). W tym przypadku do każdej wyprodukowanej jednostki trzeba doliczyć opakowanie za 0.5 zł\n"
   ]
  },
  {
   "cell_type": "markdown",
   "metadata": {},
   "source": [
    "## Rozwiązanie\n",
    "\n",
    "Słownie:\n",
    "\n",
    "Zysk = Zarobek na dzemie + zarobek na musie - koszt dzemu - koszt musu - dodatkowy koszt\n",
    "\n",
    "Zmienne decyzyjne:\n",
    "\n",
    "Ilość ( masa lub ilosc sztuk) wyprodukowanych dzemow i musuw\n",
    "\n",
    "Ograniczenia:\n",
    "\n",
    "Ograniczone dostawy\n",
    "\n",
    "Znamy ile kosztuje mus i drzem\n",
    "\n"
   ]
  },
  {
   "cell_type": "code",
   "execution_count": 1,
   "metadata": {},
   "outputs": [],
   "source": [
    "from pulp import *\n",
    "import pandas as pd"
   ]
  },
  {
   "cell_type": "code",
   "execution_count": 7,
   "metadata": {},
   "outputs": [],
   "source": [
    "#w pulp\n",
    "\n",
    "\n",
    "\n",
    "prob = LpProblem(\"The Whiskas Problem\",LpMaximize)\n",
    "\n",
    "# 2 zmienne\n",
    "prad=LpVariable(\"prad\",0) # juz tutaj podajemy ograniczenie ze sa nieujemne\n",
    "#mus=LpVariable(\"Mus\",0)\n",
    "# pomocnicze zmienne\n",
    "prad_1 = LpVariable(\"Prąd rez 1\",0, 2)\n",
    "prad_2 = LpVariable(\"Prąd rez 2\",0, 3)\n",
    "prad_3 = LpVariable(\"Prąd rez 3\",0, 4)\n",
    "prad_4 = LpVariable(\"Prąd rez 4\",0, 2)\n",
    "prad_5 = LpVariable(\"Prąd rez 5\",0, 2)\n",
    "r_1=LpVariable(\"Rez 1\",8,8)\n",
    "r_1=LpVariable(\"Rez 1\",6,6)\n",
    "r_1=LpVariable(\"Rez 1\",4,4)\n",
    "r_1=LpVariable(\"Rez 1\",10,10)\n",
    "r_1=LpVariable(\"Rez 1\",8,8)\n",
    "\n",
    "#prob += 16* dzem + 11* mus - 0.3 * zuzycie_jablek - 0.2 * zuzycie_miodu\n",
    "#prob += prad_1 + prad_2 == prad_3, \"Pierwsza gałąź\"\n",
    "#prob += prad_4 + prad_5 == prad_3, \"Draga gałąź\"\n",
    "#prob += prad_1 * r_1== prad_2 * r_2, \"Pierwsze napięcia\"\n",
    "#prob += (prad_4 * r_4) - (prad_5 * r_5) == 0, \"Drugie napięcia\"\n",
    "prob += (prad_1 + prad_2) - (prad_4 + prad_5)\n",
    "prob += prad_3 * 6/14 == prad_1, \"Prad 1\"\n",
    "prob += prad_3 * 8/14 == prad_2, \"Prad 2\"\n",
    "prob += prad_3 * 8/18 == prad_4, \"Prad 4\"\n",
    "prob += prad_3 * 10/18 == prad_5, \"Prad 5\"\n",
    "prob += prad_3 <= 4, \"Max prad\"\n",
    "\n",
    "#prob += 8 * dzem+ 2 * mus == zuzycie_jablek, \"Zuzycie jablek\"\n",
    "#prob += 5 * dzem + 5 * mus == zuzycie_miodu, \"Zuzycie miodu\"\n",
    "#prob += zuzycie_jablek <= 40, \"Maksimum jablek\"\n",
    "#prob += zuzycie_miodu <= 25, \"Maksimum miodu\"\n",
    "prob = LpProblem(\"The Whiskas Problem\")"
   ]
  },
  {
   "cell_type": "code",
   "execution_count": 8,
   "metadata": {},
   "outputs": [
    {
     "name": "stdout",
     "output_type": "stream",
     "text": [
      "Status: Optimal\n",
      "__dummy = None\n"
     ]
    },
    {
     "ename": "AttributeError",
     "evalue": "'str' object has no attribute 'value'",
     "output_type": "error",
     "traceback": [
      "\u001b[1;31m---------------------------------------------------------------------------\u001b[0m",
      "\u001b[1;31mAttributeError\u001b[0m                            Traceback (most recent call last)",
      "\u001b[1;32m<ipython-input-8-3d0e49807fbb>\u001b[0m in \u001b[0;36m<module>\u001b[1;34m\u001b[0m\n\u001b[0;32m      5\u001b[0m \u001b[1;32mfor\u001b[0m \u001b[0mv\u001b[0m \u001b[1;32min\u001b[0m \u001b[0mprob\u001b[0m\u001b[1;33m.\u001b[0m\u001b[0mvariables\u001b[0m\u001b[1;33m(\u001b[0m\u001b[1;33m)\u001b[0m\u001b[1;33m:\u001b[0m\u001b[1;33m\u001b[0m\u001b[1;33m\u001b[0m\u001b[0m\n\u001b[0;32m      6\u001b[0m     \u001b[0mprint\u001b[0m\u001b[1;33m(\u001b[0m\u001b[0mv\u001b[0m\u001b[1;33m.\u001b[0m\u001b[0mname\u001b[0m\u001b[1;33m,\u001b[0m \u001b[1;34m\"=\"\u001b[0m\u001b[1;33m,\u001b[0m \u001b[0mv\u001b[0m\u001b[1;33m.\u001b[0m\u001b[0mvarValue\u001b[0m\u001b[1;33m)\u001b[0m\u001b[1;33m\u001b[0m\u001b[1;33m\u001b[0m\u001b[0m\n\u001b[1;32m----> 7\u001b[1;33m \u001b[0mprint\u001b[0m\u001b[1;33m(\u001b[0m\u001b[1;34m\"Prąd wynosi \"\u001b[0m\u001b[1;33m.\u001b[0m\u001b[0mvalue\u001b[0m\u001b[1;33m(\u001b[0m\u001b[0mprob\u001b[0m\u001b[1;33m.\u001b[0m\u001b[0mobjective\u001b[0m\u001b[1;33m)\u001b[0m\u001b[1;33m)\u001b[0m\u001b[1;33m\u001b[0m\u001b[1;33m\u001b[0m\u001b[0m\n\u001b[0m",
      "\u001b[1;31mAttributeError\u001b[0m: 'str' object has no attribute 'value'"
     ]
    }
   ],
   "source": [
    "prob.solve()\n",
    "# The status of the solution is printed to the screen\n",
    "print(\"Status:\", LpStatus[prob.status])\n",
    "# Each of the variables is printed with it's resolved optimum value\n",
    "for v in prob.variables():\n",
    "    print(v.name, \"=\", v.varValue)\n",
    "print(\"Prąd wynosi \".value(prob.objective))\n"
   ]
  },
  {
   "cell_type": "markdown",
   "metadata": {},
   "source": [
    "# poniżej znajdują się notatki z zajęć"
   ]
  },
  {
   "cell_type": "code",
   "execution_count": null,
   "metadata": {},
   "outputs": [],
   "source": [
    "?? interact"
   ]
  },
  {
   "cell_type": "code",
   "execution_count": null,
   "metadata": {},
   "outputs": [],
   "source": [
    "from ipywidgets import IntSlider\n",
    "\n",
    "style = {'description_width': 'initial'}\n",
    "IntSlider(description='A too long description', style=style)"
   ]
  },
  {
   "cell_type": "code",
   "execution_count": null,
   "metadata": {},
   "outputs": [],
   "source": [
    "\n",
    "x_widget = FloatSlider(min=0.0, max=10.0, step=0.05)\n",
    "y_widget = FloatSlider(min=0.5, max=10.0, step=0.05, value=5.0)\n",
    "\n",
    "def update_x_range(*args):\n",
    "    x_widget.max = 2.0 * y_widget.value\n",
    "y_widget.observe(update_x_range, 'value')\n",
    "\n",
    "def printer(x, y):\n",
    "    print(x, y)\n",
    "interact(printer,x=x_widget, y=y_widget)"
   ]
  },
  {
   "cell_type": "markdown",
   "metadata": {},
   "source": [
    "# Rozwiązany przez prowadzącego problem producyjny dżemu i marmolady"
   ]
  },
  {
   "cell_type": "code",
   "execution_count": 6,
   "metadata": {},
   "outputs": [
    {
     "data": {
      "application/vnd.jupyter.widget-view+json": {
       "model_id": "2f18b929de0f4985aa52bf5f982ab7c1",
       "version_major": 2,
       "version_minor": 0
      },
      "text/plain": [
       "interactive(children=(FloatSlider(value=0.3, description='cena_jablek_slider', max=1.0, style=SliderStyle(desc…"
      ]
     },
     "metadata": {},
     "output_type": "display_data"
    },
    {
     "data": {
      "text/plain": [
       "<function __main__.hurt_produkcja(cena_jablek=0.3, cena_miodu=0.2, zysk_z_dzemu=16, zysk_z_musu=11, zuzycie_jablek_dzem=8, zuzycie_jablek_mus=2, zuzycie_miodu_dzem=5, zuzycie_miodu_mus=5, maksimum_jablek=40, maksimum_miodu=25)>"
      ]
     },
     "execution_count": 6,
     "metadata": {},
     "output_type": "execute_result"
    }
   ],
   "source": [
    "from __future__ import print_function\n",
    "from ipywidgets import interact, interactive, fixed, interact_manual, Layout, FloatSlider, IntSlider\n",
    "import ipywidgets as widgets\n",
    "import pandas as pd\n",
    "from pulp import *\n",
    "\n",
    "style = {'description_width': 'initial'}\n",
    "\n",
    "\n",
    "cena_jablek_slider = FloatSlider(min=0,max = 1, value= 0.3, description=\"cena_jablek_slider\", style= style )\n",
    "cena_miodu_slider = FloatSlider(min=0,max = 1,value= 0.2, description=\"cena_miodu_slider\", style= style )\n",
    "zysk_z_dzemu_slider = FloatSlider(min=0,max = 50, value= 16, description=\"zysk_z_dzemu_slider\", style= style )\n",
    "zysk_z_musu_slider = FloatSlider(min=0,max = 50, value= 11, description=\"zysk_z_musu_slider\", style= style )\n",
    "zuzycie_jablek_dzem_slider = FloatSlider(min=0,max = 20,value= 8, description=\"zuzycie_jablek_dzem_slider\", style= style )\n",
    "zuzycie_jablek_mus_slider = FloatSlider(min=0,max = 20,value= 2, description=\"zuzycie_jablek_mus_slider\", style= style )\n",
    "zuzycie_miodu_dzem_slider = FloatSlider(min=0,max = 20,value= 5, description=\"zuzycie_miodu_dzem_slider\", style= style )\n",
    "zuzycie_miodu_mus_slider = FloatSlider(min=0,max = 20,value= 5, description=\"zuzycie_miodu_mus_slider\", style= style )\n",
    "maksimum_jablek_slider = IntSlider(min=0,max = 200,value= 40, description=\"maksimum_jablek_slider\", style= style )\n",
    "maksimum_miodu_slider = FloatSlider(min=0,max = 200,value= 25, description=\"maksimum_miodu_slider\", style= style )\n",
    "\n",
    "\n",
    "def hurt_produkcja(cena_jablek = 0.3,\n",
    "    cena_miodu = 0.2,\n",
    "    zysk_z_dzemu = 16,\n",
    "    zysk_z_musu = 11,\n",
    "    zuzycie_jablek_dzem = 8,\n",
    "    zuzycie_jablek_mus = 2,\n",
    "    zuzycie_miodu_dzem = 5,\n",
    "    zuzycie_miodu_mus = 5,\n",
    "    maksimum_jablek = 40,\n",
    "    maksimum_miodu = 25):\n",
    "    \n",
    "    prob = LpProblem(\"Najlepsza produkcja HURT\",LpMaximize)\n",
    "\n",
    "    # 2 zmienne\n",
    "    dzem=LpVariable(\"Dzem\",0) # juz tutaj podajemy ograniczenie ze sa nieujemne\n",
    "    mus=LpVariable(\"Mus\",0)\n",
    "    # pomocnicze zmienne\n",
    "    zuzycie_jablek =LpVariable(\"Jablka\",0)\n",
    "    zuzycie_miodu =LpVariable(\"Miod\",0)\n",
    "\n",
    "    prob += zysk_z_dzemu * dzem + zysk_z_musu * mus - cena_jablek * zuzycie_jablek - cena_miodu * zuzycie_miodu\n",
    "    prob += zuzycie_jablek_dzem * dzem + zuzycie_jablek_mus * mus == zuzycie_jablek, \"Zuzycie jablek\"\n",
    "    prob += zuzycie_miodu_dzem * dzem + zuzycie_miodu_mus * mus == zuzycie_miodu, \"Zuzycie miodu\"\n",
    "    prob += zuzycie_jablek <= maksimum_jablek, \"Maksimum jablek\"\n",
    "    prob += zuzycie_miodu <= maksimum_miodu, \"Maksimum miodu\"\n",
    "\n",
    "    \n",
    "    prob.solve()\n",
    "    # The status of the solution is printed to the screen\n",
    "    print(\"Status:\", LpStatus[prob.status])\n",
    "    # Each of the variables is printed with it's resolved optimum value\n",
    "    for v in prob.variables():\n",
    "        print(v.name, \"=\", v.varValue)\n",
    "    print(\"Zysk wyniesie {} zł  \".format( value(prob.objective)))\n",
    "    \n",
    "    shadows = [{'name':name, 'shadow price': c.pi, \"slack\": c.slack} for name, c in prob.constraints.items()]\n",
    "    print(\"*\"*10+\"Shadow Prices\"+\"*\"*10)\n",
    "    print(pd.DataFrame(shadows))\n",
    "    \n",
    "    \n",
    "interact(hurt_produkcja,cena_jablek = cena_jablek_slider,\n",
    "    cena_miodu =    cena_miodu_slider,\n",
    "    zysk_z_dzemu =    zysk_z_dzemu_slider,\n",
    "    zysk_z_musu =zysk_z_musu_slider,\n",
    "    zuzycie_jablek_dzem =zuzycie_jablek_dzem_slider,\n",
    "    zuzycie_jablek_mus =zuzycie_jablek_mus_slider,\n",
    "    zuzycie_miodu_dzem =zuzycie_miodu_dzem_slider,\n",
    "    zuzycie_miodu_mus =zuzycie_miodu_mus_slider,\n",
    "    maksimum_jablek =maksimum_jablek_slider,\n",
    "    maksimum_miodu =maksimum_miodu_slider)\n"
   ]
  },
  {
   "cell_type": "code",
   "execution_count": null,
   "metadata": {},
   "outputs": [],
   "source": []
  }
 ],
 "metadata": {
  "kernelspec": {
   "display_name": "Python 3",
   "language": "python",
   "name": "python3"
  },
  "language_info": {
   "codemirror_mode": {
    "name": "ipython",
    "version": 3
   },
   "file_extension": ".py",
   "mimetype": "text/x-python",
   "name": "python",
   "nbconvert_exporter": "python",
   "pygments_lexer": "ipython3",
   "version": "3.7.4"
  }
 },
 "nbformat": 4,
 "nbformat_minor": 2
}
