{
 "cells": [
  {
   "cell_type": "markdown",
   "metadata": {},
   "source": [
    "# Projekt zaliczeniowy \n",
    "Grupa:\n",
    "Natalia Walczak 209002\n",
    "Wojciech Jurek 208911\n",
    "Damian Matławski 208941\n",
    "\n",
    "Opis projektu wraz z datasetem pochodzi z: https://www.kaggle.com/jsphyg/weather-dataset-rattle-package"
   ]
  },
  {
   "cell_type": "markdown",
   "metadata": {},
   "source": [
    "# Deszcz w Australii\n",
    "\n",
    "Zbiór danych z których korzystamy zawiera obserwacje pogodowe zebrane z kilku stacji meteorologicznych rozsianych w całej Australii. Posiadamy takie dane o temperaturze, wietrze, ciśneniu, poziomie zachmurzenia czy też o tym czy w danym dniu padało. Więcej o danych i ich znaczeniu przedstawiono w tabeli poniżej:"
   ]
  },
  {
   "cell_type": "markdown",
   "metadata": {},
   "source": [
    "<table class=\"tg\">\n",
    "  <tr>\n",
    "    <th class=\"tg-96f8\">Data</th>\n",
    "    <th class=\"tg-0lax\">Location</th>\n",
    "    <th class=\"tg-m9r4\">MinTemp</th>\n",
    "    <th class=\"tg-m9r4\">MaxTemp<br></th>\n",
    "    <th class=\"tg-0lax\">Rainfall</th>\n",
    "    <th class=\"tg-0lax\">Evaporation</th>\n",
    "    <th class=\"tg-0lax\">Sunshine</th>\n",
    "    <th class=\"tg-0lax\">WindGustDir</th>\n",
    "    <th class=\"tg-0lax\">WindGustSpeed</th>\n",
    "  </tr>\n",
    "  <tr>\n",
    "    <td class=\"tg-0lax\">data rejestracji<br>zdarzenia</td>\n",
    "    <td class=\"tg-0lax\">miejsce <br>rejestracji</td>\n",
    "    <td class=\"tg-0lax\">minimalna tempertura<br>w ciagu dnia</td>\n",
    "    <td class=\"tg-0lax\">maksymalna temperatura<br>w ciagu dnia</td>\n",
    "    <td class=\"tg-0lax\">Opady zerejestrowane<br>w ciągu dnia w mm</td>\n",
    "    <td class=\"tg-0lax\">odparowana woda<br>w mm</td>\n",
    "    <td class=\"tg-0lax\">Ilość godzin <br>słonecznego poranka<br>w ciągu dnia</td>\n",
    "    <td class=\"tg-0lax\">Kierunek najsilniejszego<br>porywu wiatru</td>\n",
    "    <td class=\"tg-0lax\">prędkość najsilniejszego<br>porywu wiatru</td>\n",
    "  </tr>\n",
    "</table>"
   ]
  },
  {
   "cell_type": "markdown",
   "metadata": {},
   "source": [
    "<table class=\"tg\">\n",
    "  <tr>\n",
    "    <th class=\"tg-ksfr\">WindDir9am</th>\n",
    "    <th class=\"tg-0pky\">WindDir3pm</th>\n",
    "    <th class=\"tg-ncd7\">WindSpeed9am</th>\n",
    "    <th class=\"tg-ncd7\">WindSpeed3pm<br></th>\n",
    "    <th class=\"tg-0pky\">Humidity9am</th>\n",
    "    <th class=\"tg-0pky\">Pressure9am</th>\n",
    "    <th class=\"tg-0pky\">Pressure6pm</th>\n",
    "    <th class=\"tg-0pky\">Cloud9am</th>\n",
    "    <th class=\"tg-0pky\">Cloud3pm</th>\n",
    "  </tr>\n",
    "  <tr>\n",
    "    <td class=\"tg-0pky\">kierunek wiatru <br>o 9 rano</td>\n",
    "    <td class=\"tg-0pky\">kierunek wiatru<br>o 3 po południu</td>\n",
    "    <td class=\"tg-0pky\">prędkość wiatru<br>o 9 rano</td>\n",
    "    <td class=\"tg-0pky\">prędkość wiatru<br>o 3 po południu</td>\n",
    "    <td class=\"tg-0pky\">Wilgotność o <br>9 rano</td>\n",
    "    <td class=\"tg-0pky\">Ciśnienie o <br>9 rano w hpa</td>\n",
    "    <td class=\"tg-0pky\">Ciśnienie o <br>6 po południu w hpa</td>\n",
    "    <td class=\"tg-0pky\">Jaka część nieba<br>była zasłonięta przez <br>chmury o 9 rano</td>\n",
    "    <td class=\"tg-0pky\">Jaka część nieba<br>była zasłonięta przez <br>chmury 0 3 po południu</td>\n",
    "  </tr>\n",
    "</table>"
   ]
  },
  {
   "cell_type": "markdown",
   "metadata": {},
   "source": [
    "<table class=\"tg\">\n",
    "  <tr>\n",
    "    <th class=\"tg-ksfr\">Temp9am</th>\n",
    "    <th class=\"tg-0pky\">Temp3pm</th>\n",
    "    <th class=\"tg-ncd7\">RISK_MM</th>\n",
    "    <th class=\"tg-ncd7\">RainTomorrow<br></th>\n",
    "  </tr>\n",
    "  <tr>\n",
    "    <td class=\"tg-0pky\">Temperatura o<br>9 rano w C</td>\n",
    "    <td class=\"tg-0pky\">Temperatura o<br>3 po południu w C</td>\n",
    "    <td class=\"tg-0pky\">Ilość deszczu który<br>spadł dnia następnego w mm<br>Wykorzystywany do generowania<br>odpowiedzi w następnej kolumnie</td>\n",
    "    <td class=\"tg-0pky\">To czy następnego<br>dnia padało. W formie<br>odpowiedzi Tak i Nie.<br><span style=\"font-weight:bold\">To chcemy przewidywać</span></td>\n",
    "  </tr>\n",
    "</table>"
   ]
  },
  {
   "cell_type": "markdown",
   "metadata": {},
   "source": [
    "### To co chcemy przewidywać to fakt czy następnego dnia będzie padać. "
   ]
  },
  {
   "cell_type": "markdown",
   "metadata": {},
   "source": [
    "Link do konkursu: https://www.kaggle.com/jsphyg/weather-dataset-rattle-package"
   ]
  },
  {
   "cell_type": "code",
   "execution_count": 1,
   "metadata": {},
   "outputs": [],
   "source": [
    "import pandas as pd\n",
    "import seaborn as sns\n",
    "import matplotlib.pyplot as plt\n",
    "from sklearn.linear_model import LogisticRegression\n",
    "from sklearn.model_selection import cross_val_score\n",
    "from sklearn.model_selection import train_test_split\n",
    "from sklearn.metrics import accuracy_score\n",
    "import numpy as np\n",
    "import warnings\n",
    "\n",
    "warnings.filterwarnings('ignore')# Sprawia że nie pokazują się ostrzeżenia \n",
    "\n",
    "## odczytujemy plik test.csv\n",
    "test = pd.read_csv(\"./weatherAUS.csv\",skipfooter=100000)#pomijamy 100000 rekordów tak by pracować z mniejsza ilsocia danych\n",
    "doheatmap = pd.read_csv(\"./weatherAUS.csv\",skipfooter=100000)#importujemy raz jeszcze, bedzie to potrzebne do heatmap\n",
    "\n"
   ]
  },
  {
   "cell_type": "code",
   "execution_count": 2,
   "metadata": {},
   "outputs": [
    {
     "name": "stdout",
     "output_type": "stream",
     "text": [
      "wyniki w % \n",
      "\n",
      "RainTomorrow      0\n",
      "Location          0\n",
      "Date              0\n",
      "MaxTemp           0\n",
      "Temp9am           0\n",
      "MinTemp           0\n",
      "RISK_MM           0\n",
      "Humidity9am       1\n",
      "RainToday         1\n",
      "Rainfall          1\n",
      "WindSpeed9am      1\n",
      "Temp3pm           2\n",
      "Humidity3pm       2\n",
      "WindSpeed3pm      3\n",
      "WindDir3pm        4\n",
      "WindDir9am       10\n",
      "WindGustSpeed    11\n",
      "WindGustDir      11\n",
      "Pressure3pm      15\n",
      "Pressure9am      15\n",
      "Cloud9am         39\n",
      "Cloud3pm         39\n",
      "Evaporation      48\n",
      "Sunshine         59\n",
      "dtype: int64\n"
     ]
    }
   ],
   "source": [
    "liczba = test.count().sort_values(ascending=True) # zlicza tylko i wyłącznie wartości nie NaN\n",
    "length=len(liczba)\n",
    "for i in range(length):\n",
    "    liczba[i]=(42193-liczba[i])/test.shape[0]*100 # liczymy w jakim procencie brakuje nam danych w danej kolumnie \n",
    "\n",
    "print(\"wyniki w % \")\n",
    "print()\n",
    "print(liczba.sort_values())\n",
    "\n",
    "\n",
    "# Sprawdzamy w jakim procencie danych w danej kolumnie pojawiają się wartości NaN"
   ]
  },
  {
   "cell_type": "markdown",
   "metadata": {},
   "source": [
    "## Dla kolumn Sunshine,Evaporation,Vloud3pm i Cloud 9am mamy zdecydowanie zbyt dużo braków wartości, oznacza to że kolumny te nie będą użyteczne. Dodatkowo zbędne dla nas są data i miejscowość - ponieważ pytanie brzmi czy w całej Australii będzie padać. Dodatkowo kolumna RISK_MM jest tylko kolumną pomocnicza dla \"RainTomorrow\" więc też nie jest nam potrzebna"
   ]
  },
  {
   "cell_type": "code",
   "execution_count": 3,
   "metadata": {},
   "outputs": [
    {
     "data": {
      "text/plain": [
       "(42193, 17)"
      ]
     },
     "execution_count": 3,
     "metadata": {},
     "output_type": "execute_result"
    }
   ],
   "source": [
    "# usuwanie kolumn\n",
    "test = test.drop(columns=['Sunshine','Evaporation','Cloud3pm','Cloud9am','Location','RISK_MM','Date'],axis=1)\n",
    "test.shape # sprawdzamy ile mamy kolumn"
   ]
  },
  {
   "cell_type": "markdown",
   "metadata": {},
   "source": [
    "### W kolumnie RainTomorrow i RainToday posiadamy dane typu string, nie mogą one zostać więc zinterpretowane przez algorytm uczący. Nalezy więc zamienić je na wartości binarne"
   ]
  },
  {
   "cell_type": "code",
   "execution_count": 4,
   "metadata": {},
   "outputs": [],
   "source": [
    "#usuwamy jakiekolwiek wartości NaN\n",
    "test = test.dropna(how='any')\n",
    "test.shape\n",
    "\n",
    "#zamieniami Yes na 1 i No na 0 w kolumnie RainTomorrow\n",
    "slownik = {'Yes': 1,'No': 0}\n",
    "test.RainTomorrow = [slownik[item] for item in test.RainTomorrow]\n",
    "slownik2 = {'Yes': 1,'No': 0}\n",
    "test.RainToday = [slownik2[item] for item in test.RainToday]"
   ]
  },
  {
   "cell_type": "markdown",
   "metadata": {},
   "source": [
    "## Wykreślmy sobie graf przedstawiający ile razy padało i nie padało, dla dnia disiejszego i jutrzejszego"
   ]
  },
  {
   "cell_type": "code",
   "execution_count": 5,
   "metadata": {},
   "outputs": [
    {
     "data": {
      "text/plain": [
       "0    24299\n",
       "1     7042\n",
       "Name: RainTomorrow, dtype: int64"
      ]
     },
     "execution_count": 5,
     "metadata": {},
     "output_type": "execute_result"
    },
    {
     "data": {
      "image/png": "[encoded data removed]",
      "text/plain": [
       "<Figure size 432x288 with 1 Axes>"
      ]
     },
     "metadata": {
      "needs_background": "light"
     },
     "output_type": "display_data"
    }
   ],
   "source": [
    "pd.value_counts(test['RainTomorrow']).plot.bar()\n",
    "pd.value_counts(test['RainTomorrow'])"
   ]
  },
  {
   "cell_type": "code",
   "execution_count": 6,
   "metadata": {},
   "outputs": [
    {
     "data": {
      "text/plain": [
       "0    24106\n",
       "1     7235\n",
       "Name: RainToday, dtype: int64"
      ]
     },
     "execution_count": 6,
     "metadata": {},
     "output_type": "execute_result"
    },
    {
     "data": {
      "image/png": "[encoded data removed]",
      "text/plain": [
       "<Figure size 432x288 with 1 Axes>"
      ]
     },
     "metadata": {
      "needs_background": "light"
     },
     "output_type": "display_data"
    }
   ],
   "source": [
    "pd.value_counts(test['RainToday']).plot.bar()\n",
    "pd.value_counts(test['RainToday'])"
   ]
  },
  {
   "cell_type": "markdown",
   "metadata": {},
   "source": [
    "## Wygląda na to że dane te pokrywają się bądź są ze sobą silnie związane"
   ]
  },
  {
   "cell_type": "markdown",
   "metadata": {},
   "source": [
    "# Sprawdźmy teraz statystykę naszego zestawu danych "
   ]
  },
  {
   "cell_type": "code",
   "execution_count": 7,
   "metadata": {},
   "outputs": [
    {
     "data": {
      "text/html": [
       "<div>\n",
       "<style scoped>\n",
       "    .dataframe tbody tr th:only-of-type {\n",
       "        vertical-align: middle;\n",
       "    }\n",
       "\n",
       "    .dataframe tbody tr th {\n",
       "        vertical-align: top;\n",
       "    }\n",
       "\n",
       "    .dataframe thead th {\n",
       "        text-align: right;\n",
       "    }\n",
       "</style>\n",
       "<table border=\"1\" class=\"dataframe\">\n",
       "  <thead>\n",
       "    <tr style=\"text-align: right;\">\n",
       "      <th></th>\n",
       "      <th>WindGustDir</th>\n",
       "      <th>WindDir9am</th>\n",
       "      <th>WindDir3pm</th>\n",
       "    </tr>\n",
       "  </thead>\n",
       "  <tbody>\n",
       "    <tr>\n",
       "      <th>count</th>\n",
       "      <td>31341</td>\n",
       "      <td>31341</td>\n",
       "      <td>31341</td>\n",
       "    </tr>\n",
       "    <tr>\n",
       "      <th>unique</th>\n",
       "      <td>16</td>\n",
       "      <td>16</td>\n",
       "      <td>16</td>\n",
       "    </tr>\n",
       "    <tr>\n",
       "      <th>top</th>\n",
       "      <td>S</td>\n",
       "      <td>SW</td>\n",
       "      <td>NE</td>\n",
       "    </tr>\n",
       "    <tr>\n",
       "      <th>freq</th>\n",
       "      <td>2504</td>\n",
       "      <td>2479</td>\n",
       "      <td>2884</td>\n",
       "    </tr>\n",
       "  </tbody>\n",
       "</table>\n",
       "</div>"
      ],
      "text/plain": [
       "       WindGustDir WindDir9am WindDir3pm\n",
       "count        31341      31341      31341\n",
       "unique          16         16         16\n",
       "top              S         SW         NE\n",
       "freq          2504       2479       2884"
      ]
     },
     "execution_count": 7,
     "metadata": {},
     "output_type": "execute_result"
    }
   ],
   "source": [
    " test.describe(include=['object']) # pokazuje statystyki tylko dla danych typu \"object\""
   ]
  },
  {
   "cell_type": "markdown",
   "metadata": {},
   "source": [
    "## Tutaj możemy zobaczyć statystykę dotyczącą jedynie weirszy gdy na następny dzień padało"
   ]
  },
  {
   "cell_type": "code",
   "execution_count": 8,
   "metadata": {},
   "outputs": [
    {
     "name": "stdout",
     "output_type": "stream",
     "text": [
      "           MinTemp      MaxTemp     Rainfall  WindGustSpeed  WindSpeed9am  \\\n",
      "count  7042.000000  7042.000000  7042.000000    7042.000000   7042.000000   \n",
      "mean     14.961630    22.277521     7.024183      45.316103     16.624254   \n",
      "std       4.986578     5.657657    15.105104      15.245780      9.105419   \n",
      "min      -4.700000     6.800000     0.000000       7.000000      2.000000   \n",
      "25%      11.600000    18.400000     0.000000      35.000000      9.000000   \n",
      "50%      15.600000    21.800000     0.600000      44.000000     15.000000   \n",
      "75%      18.900000    25.600000     7.200000      54.000000     22.000000   \n",
      "max      28.100000    46.400000   225.000000     135.000000     87.000000   \n",
      "\n",
      "       WindSpeed3pm  Humidity9am  Humidity3pm  Pressure9am  Pressure3pm  \\\n",
      "count   7042.000000  7042.000000  7042.000000  7042.000000  7042.000000   \n",
      "mean      20.485941    77.862113    70.020591  1016.692559  1014.492019   \n",
      "std        9.589317    14.824462    18.439482     6.811717     6.989052   \n",
      "min        2.000000    12.000000     3.000000   980.500000   979.000000   \n",
      "25%       13.000000    68.000000    59.000000  1012.200000  1009.700000   \n",
      "50%       19.000000    80.000000    72.000000  1016.600000  1014.500000   \n",
      "75%       26.000000    90.000000    85.000000  1021.300000  1019.200000   \n",
      "max       74.000000   100.000000   100.000000  1038.100000  1036.400000   \n",
      "\n",
      "           Temp9am      Temp3pm    RainToday  RainTomorrow  \n",
      "count  7042.000000  7042.000000  7042.000000        7042.0  \n",
      "mean     18.072025    20.439903     0.467197           1.0  \n",
      "std       4.912745     5.406415     0.498958           0.0  \n",
      "min       1.200000     6.400000     0.000000           1.0  \n",
      "25%      14.700000    16.700000     0.000000           1.0  \n",
      "50%      18.500000    20.000000     0.000000           1.0  \n",
      "75%      21.600000    23.600000     1.000000           1.0  \n",
      "max      35.100000    44.900000     1.000000           1.0  \n"
     ]
    }
   ],
   "source": [
    "print(test.loc[test['RainTomorrow'] == 1].describe()) #statystyki danych liczbowych"
   ]
  },
  {
   "cell_type": "code",
   "execution_count": 9,
   "metadata": {},
   "outputs": [
    {
     "name": "stdout",
     "output_type": "stream",
     "text": [
      "S      850\n",
      "SSW    687\n",
      "SSE    575\n",
      "NNE    511\n",
      "NE     454\n",
      "SE     441\n",
      "ENE    440\n",
      "E      426\n",
      "SW     405\n",
      "W      397\n",
      "ESE    373\n",
      "WSW    372\n",
      "WNW    357\n",
      "N      324\n",
      "NW     236\n",
      "NNW    194\n",
      "Name: WindGustDir, dtype: int64\n"
     ]
    }
   ],
   "source": [
    "print(test.WindGustDir.loc[test['RainTomorrow'] == 1].value_counts())#statystyka danych w kolumnie WindGustDir"
   ]
  },
  {
   "cell_type": "code",
   "execution_count": 10,
   "metadata": {},
   "outputs": [
    {
     "name": "stdout",
     "output_type": "stream",
     "text": [
      "S      746\n",
      "SSW    619\n",
      "SSE    572\n",
      "NE     568\n",
      "SE     546\n",
      "E      502\n",
      "ESE    479\n",
      "ENE    450\n",
      "NNE    443\n",
      "N      409\n",
      "SW     325\n",
      "WNW    316\n",
      "W      291\n",
      "WSW    270\n",
      "NW     267\n",
      "NNW    239\n",
      "Name: WindDir3pm, dtype: int64\n"
     ]
    }
   ],
   "source": [
    "print(test.WindDir3pm.loc[test['RainTomorrow'] == 1].value_counts())#statystyka danych w kolumnie WindDir3pm"
   ]
  },
  {
   "cell_type": "code",
   "execution_count": 11,
   "metadata": {},
   "outputs": [
    {
     "name": "stdout",
     "output_type": "stream",
     "text": [
      "SW     664\n",
      "SSW    597\n",
      "NNE    505\n",
      "WSW    475\n",
      "W      455\n",
      "E      455\n",
      "N      445\n",
      "NE     439\n",
      "WNW    427\n",
      "ENE    415\n",
      "NW     406\n",
      "S      397\n",
      "SE     352\n",
      "SSE    338\n",
      "ESE    338\n",
      "NNW    334\n",
      "Name: WindDir9am, dtype: int64\n"
     ]
    }
   ],
   "source": [
    "print(test.WindDir9am.loc[test['RainTomorrow'] == 1].value_counts())#statystyka danych w kolumnie WindDir9am"
   ]
  },
  {
   "cell_type": "code",
   "execution_count": 12,
   "metadata": {},
   "outputs": [
    {
     "name": "stdout",
     "output_type": "stream",
     "text": [
      "['W' 'NNW' 'SE' 'ENE' 'SW' 'SSE' 'S' 'NE' 'SSW' 'N' 'WSW' 'ESE' 'E' 'NW'\n",
      " 'WNW' 'NNE']\n",
      "16  różmych wartości\n"
     ]
    }
   ],
   "source": [
    "print(test.WindDir9am.unique())\n",
    "print(sum(pd.value_counts(test.WindDir9am.unique())),' różmych wartości')#pokazuje jakie i ile unikatowych wartosci \n",
    "                                                                         # posiada kolumna WindDir9am  "
   ]
  },
  {
   "cell_type": "code",
   "execution_count": 13,
   "metadata": {},
   "outputs": [
    {
     "name": "stdout",
     "output_type": "stream",
     "text": [
      "['WNW' 'WSW' 'E' 'NW' 'W' 'SSE' 'ESE' 'ENE' 'NNW' 'SSW' 'SW' 'SE' 'N' 'S'\n",
      " 'NNE' 'NE']\n",
      "16  różmych wartości\n"
     ]
    }
   ],
   "source": [
    "print(test.WindDir3pm.unique())\n",
    "print(sum(pd.value_counts(test.WindDir3pm.unique())),' różmych wartości')#pokazuje jakie i ile unikatowych wartosci \n",
    "                                                                         # posiada kolumna WindDir3pm "
   ]
  },
  {
   "cell_type": "code",
   "execution_count": 14,
   "metadata": {},
   "outputs": [
    {
     "name": "stdout",
     "output_type": "stream",
     "text": [
      "['W' 'WNW' 'WSW' 'NE' 'NNW' 'N' 'NNE' 'SW' 'ENE' 'SSE' 'S' 'NW' 'SE' 'ESE'\n",
      " 'E' 'SSW']\n",
      "16  różmych wartości\n"
     ]
    }
   ],
   "source": [
    "print(test.WindGustDir.unique())\n",
    "print(sum(pd.value_counts(test.WindGustDir.unique())),' różmych wartości')#pokazuje jakie i ile unikatowych wartosci \n",
    "                                                                         # posiada kolumna WindGustDir  "
   ]
  },
  {
   "cell_type": "markdown",
   "metadata": {},
   "source": [
    "## W danych posiadamy trzy kolumny które posiadają 16 różnych wartości typu \"object\". Nasz algorytm nie będzie potrafił zinterpretować obiektów, dlatego też musimy utworzyć \"dummies\" (kolumny z wartosciami tych kolumn, oznaczane 1 lub 0 jesli dany wierz posiada te wartosc) tych kolumn\n"
   ]
  },
  {
   "cell_type": "code",
   "execution_count": 15,
   "metadata": {},
   "outputs": [],
   "source": [
    "categorical_columns = ['WindGustDir', 'WindDir3pm', 'WindDir9am']\n",
    "test = pd.get_dummies(test, columns=categorical_columns)# tworzenie dummies dla kolumn z categorical_columns"
   ]
  },
  {
   "cell_type": "code",
   "execution_count": 16,
   "metadata": {},
   "outputs": [
    {
     "data": {
      "text/plain": [
       "(31341, 62)"
      ]
     },
     "execution_count": 16,
     "metadata": {},
     "output_type": "execute_result"
    }
   ],
   "source": [
    "test.shape#sprawdzenie"
   ]
  },
  {
   "cell_type": "code",
   "execution_count": 17,
   "metadata": {},
   "outputs": [
    {
     "data": {
      "text/plain": [
       "Index(['MinTemp', 'MaxTemp', 'Rainfall', 'WindGustSpeed', 'WindSpeed9am',\n",
       "       'WindSpeed3pm', 'Humidity9am', 'Humidity3pm', 'Pressure9am',\n",
       "       'Pressure3pm', 'Temp9am', 'Temp3pm', 'RainToday', 'RainTomorrow',\n",
       "       'WindGustDir_E', 'WindGustDir_ENE', 'WindGustDir_ESE', 'WindGustDir_N',\n",
       "       'WindGustDir_NE', 'WindGustDir_NNE', 'WindGustDir_NNW',\n",
       "       'WindGustDir_NW', 'WindGustDir_S', 'WindGustDir_SE', 'WindGustDir_SSE',\n",
       "       'WindGustDir_SSW', 'WindGustDir_SW', 'WindGustDir_W', 'WindGustDir_WNW',\n",
       "       'WindGustDir_WSW', 'WindDir3pm_E', 'WindDir3pm_ENE', 'WindDir3pm_ESE',\n",
       "       'WindDir3pm_N', 'WindDir3pm_NE', 'WindDir3pm_NNE', 'WindDir3pm_NNW',\n",
       "       'WindDir3pm_NW', 'WindDir3pm_S', 'WindDir3pm_SE', 'WindDir3pm_SSE',\n",
       "       'WindDir3pm_SSW', 'WindDir3pm_SW', 'WindDir3pm_W', 'WindDir3pm_WNW',\n",
       "       'WindDir3pm_WSW', 'WindDir9am_E', 'WindDir9am_ENE', 'WindDir9am_ESE',\n",
       "       'WindDir9am_N', 'WindDir9am_NE', 'WindDir9am_NNE', 'WindDir9am_NNW',\n",
       "       'WindDir9am_NW', 'WindDir9am_S', 'WindDir9am_SE', 'WindDir9am_SSE',\n",
       "       'WindDir9am_SSW', 'WindDir9am_SW', 'WindDir9am_W', 'WindDir9am_WNW',\n",
       "       'WindDir9am_WSW'],\n",
       "      dtype='object')"
      ]
     },
     "execution_count": 17,
     "metadata": {},
     "output_type": "execute_result"
    }
   ],
   "source": [
    "test.columns#sprawdzenie"
   ]
  },
  {
   "cell_type": "markdown",
   "metadata": {},
   "source": [
    "### Teraz standaryzujemy nasze dane. Chodzi o to żeby wsyzstkie wartości jakie mamy w tabeli mieściły się w przedziale <0,1> Do tego celu wykorzystujemy gotową funckje scaler.fit()"
   ]
  },
  {
   "cell_type": "code",
   "execution_count": 18,
   "metadata": {},
   "outputs": [],
   "source": [
    "# skaluje wartości tak by mieściły się  wgranicach <0,1>\n",
    "\n",
    "from sklearn import preprocessing\n",
    "scaler = preprocessing.MinMaxScaler()\n",
    "scaler.fit(test)\n",
    "test = pd.DataFrame(scaler.transform(test), index=test.index, columns=test.columns)"
   ]
  },
  {
   "cell_type": "markdown",
   "metadata": {},
   "source": [
    "## Do oceny jakie kolumny mogą okazać się istotne podczas nauki naszego algorytmu można wykorzystać funkcje SelectKBest(). Na zasadzie testów statystycznych zwraca nam wybraną ilość kolumn najlepiej nadających się do uczenia maszyny."
   ]
  },
  {
   "cell_type": "code",
   "execution_count": 19,
   "metadata": {},
   "outputs": [
    {
     "name": "stdout",
     "output_type": "stream",
     "text": [
      "Index(['Rainfall', 'Humidity3pm', 'RainToday'], dtype='object')\n"
     ]
    }
   ],
   "source": [
    "\n",
    "# ocenia które kolumny najlepiej wziąść do uczenia algorytmu\n",
    "from sklearn.feature_selection import SelectKBest, chi2\n",
    "X = test.loc[:,test.columns!='RainTomorrow']\n",
    "y = test[['RainTomorrow']]\n",
    "selector = SelectKBest(chi2, k=3)## k to ilosc zwracanych kolumn (max 3)\n",
    "\n",
    "\n",
    "selector.fit(X, y)\n",
    "X_new = selector.transform(X)\n",
    "print(X.columns[selector.get_support(indices=True)])"
   ]
  },
  {
   "cell_type": "code",
   "execution_count": 27,
   "metadata": {},
   "outputs": [],
   "source": [
    "#Wybieramy interesujące nas cechy i przypisujemy do X\n",
    "#test = test[['Humidity3pm','Rainfall','RainToday','RainTomorrow']]\n",
    "\n",
    "X = test.loc[:,test.columns!='RainTomorrow']  #---> wszystkie dane oprocz tych najlepszych -> daja nieco lepsze wyniki\n",
    "#X = test[['Humidity3pm','Rainfall','RainToday','WindGustDir_S']] #--> dostajemy nieco gorsze wyniki\n",
    "y = test[['RainTomorrow']]"
   ]
  },
  {
   "cell_type": "code",
   "execution_count": 48,
   "metadata": {},
   "outputs": [
    {
     "name": "stdout",
     "output_type": "stream",
     "text": [
      "Accuracy : 0.8446911689637571\n",
      "Time taken : 0.4362626075744629\n"
     ]
    }
   ],
   "source": [
    "#Rozwiązanie przy użyciu metody Logistic Regression \n",
    "from sklearn.linear_model import LogisticRegression\n",
    "from sklearn.model_selection import train_test_split\n",
    "from sklearn.metrics import accuracy_score\n",
    "import time\n",
    "\n",
    "t0=time.time()\n",
    "X_train,X_test,y_train,y_test = train_test_split(X,y,test_size=0.25)\n",
    "clf_logreg = LogisticRegression()\n",
    "clf_logreg.fit(X_train,y_train)\n",
    "y_pred = clf_logreg.predict(X_test)\n",
    "score = accuracy_score(y_test,y_pred)\n",
    "print('Accuracy :',score)\n",
    "print('Time taken :' , time.time()-t0)"
   ]
  },
  {
   "cell_type": "code",
   "execution_count": 29,
   "metadata": {},
   "outputs": [
    {
     "name": "stdout",
     "output_type": "stream",
     "text": [
      "Accuracy : 0.8415007656967841\n",
      "Time taken : 0.692190408706665\n"
     ]
    }
   ],
   "source": [
    "#Rozwiązanie przy użyciu metody Random Forest\n",
    "from sklearn.ensemble import RandomForestClassifier\n",
    "from sklearn.model_selection import train_test_split\n",
    "\n",
    "t0=time.time()\n",
    "X_train,X_test,y_train,y_test = train_test_split(X,y,test_size=0.25)\n",
    "clf_rf = RandomForestClassifier()\n",
    "clf_rf.fit(X_train,y_train)\n",
    "y_pred = clf_rf.predict(X_test)\n",
    "score = accuracy_score(y_test,y_pred)\n",
    "print('Accuracy :',score)\n",
    "print('Time taken :' , time.time()-t0)"
   ]
  },
  {
   "cell_type": "code",
   "execution_count": 41,
   "metadata": {},
   "outputs": [
    {
     "name": "stdout",
     "output_type": "stream",
     "text": [
      "Accuracy : 0.7803726391015824\n",
      "Time taken : 0.6547346115112305\n"
     ]
    }
   ],
   "source": [
    "#Rozwiązanie przy użyciu metody Decision Tree (non-parametric supervised learning method)\n",
    "from sklearn.tree import DecisionTreeClassifier\n",
    "from sklearn.model_selection import train_test_split\n",
    "\n",
    "t0=time.time()\n",
    "X_train,X_test,y_train,y_test = train_test_split(X,y,test_size=0.25)\n",
    "clf_dt = DecisionTreeClassifier()\n",
    "clf_dt.fit(X_train,y_train)\n",
    "y_pred = clf_dt.predict(X_test)\n",
    "score = accuracy_score(y_test,y_pred)\n",
    "print('Accuracy :',score)\n",
    "print('Time taken :' , time.time()-t0)"
   ]
  },
  {
   "cell_type": "code",
   "execution_count": 40,
   "metadata": {},
   "outputs": [
    {
     "name": "stdout",
     "output_type": "stream",
     "text": [
      "Accuracy : 0.8472434915773354\n",
      "Time taken : 71.22508335113525\n"
     ]
    }
   ],
   "source": [
    "#Rozwiązanie przy użyciu metody Support Vector Machine\n",
    "from sklearn import svm\n",
    "from sklearn.model_selection import train_test_split\n",
    "\n",
    "t0=time.time()# pobranie aktualnego czasu do zmiennej t0\n",
    "X_train,X_test,y_train,y_test = train_test_split(X,y,test_size=0.25)\n",
    "clf_svc = svm.SVC()\n",
    "clf_svc.fit(X_train,y_train)\n",
    "y_pred = clf_svc.predict(X_test)\n",
    "score = accuracy_score(y_test,y_pred)\n",
    "print('Accuracy :',score)\n",
    "print('Time taken :' , time.time()-t0)#sprawdzenie ile czasu zajal proces uczenia"
   ]
  },
  {
   "cell_type": "markdown",
   "metadata": {},
   "source": [
    "### Wszystkie metody dają skuteczność w zakresie 78% - 85%. Największą skuteczność osiągnęliśmy przy użyciu metody 'Support Vector Machine', lecz skuteczość okupiona jest najdłuższym czasem kompilacji w porównaniu do pozostałych metod. Bardzo podobny wynik otzrymujemy dla metod 'LogisticRegression' oraz 'Random Forest' z tym że są one około 70 razy szybsze niż 'Support Vector Machine'. Dla bardzo duzych ilości danych czas może okazać się decyujący. Najgorszą metodą okazała się metoda 'Decision Tree'."
   ]
  },
  {
   "cell_type": "code",
   "execution_count": null,
   "metadata": {},
   "outputs": [],
   "source": []
  }
 ],
 "metadata": {
  "kernelspec": {
   "display_name": "Python 3",
   "language": "python",
   "name": "python3"
  },
  "language_info": {
   "codemirror_mode": {
    "name": "ipython",
    "version": 3
   },
   "file_extension": ".py",
   "mimetype": "text/x-python",
   "name": "python",
   "nbconvert_exporter": "python",
   "pygments_lexer": "ipython3",
   "version": "3.7.4"
  }
 },
 "nbformat": 4,
 "nbformat_minor": 2
}
