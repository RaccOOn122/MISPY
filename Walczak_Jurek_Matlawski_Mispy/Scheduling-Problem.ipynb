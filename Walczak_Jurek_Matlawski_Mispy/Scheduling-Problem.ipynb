{
 "cells": [
  {
   "cell_type": "markdown",
   "metadata": {},
   "source": [
    "# Import bibliotek używanych do rozwiązania problemu"
   ]
  },
  {
   "cell_type": "code",
   "execution_count": 1,
   "metadata": {},
   "outputs": [],
   "source": [
    "from pulp import *\n",
    "import pandas as pd"
   ]
  },
  {
   "cell_type": "markdown",
   "metadata": {},
   "source": [
    "# Tworzenie problemu, zmiennych wraz z ograniczeniami, słownika z imionami i stawkami"
   ]
  },
  {
   "cell_type": "code",
   "execution_count": 2,
   "metadata": {},
   "outputs": [],
   "source": [
    "prob = LpProblem(\"Scheduling problem\", LpMinimize)\n",
    "\n",
    "dni = [\"Poniedziałek\", \"Wtorek\", \"Środa\", \"Czwartek\", \"Piątek\", \"Sobota\", \"Niedziela\"]\n",
    "osoby = [\"Igor\", \"Marcin\", \"Franek\", \"Piotr\", \"Ania\", \"Zenon\"]\n",
    "stawka = [170,60,80,200,90,10] # Stawka godzinowa osób.\n",
    "dostepnosc = [4,4,9,8,10,5] # Dostępność godzin osób tygodniowo.\n",
    "godzinyOtwarcia = [8,4,4,4,8,2,0] # Ilość godzin do wypracowania w ciągu każdego dnia.\n",
    "\n",
    "\n",
    "j=0\n",
    "stawki={}\n",
    "for i in osoby:\n",
    "    stawki[i]=stawka[j]\n",
    "    j+=1"
   ]
  },
  {
   "cell_type": "markdown",
   "metadata": {},
   "source": [
    "# Zmienne potrzebne do roziwązania problemu, funkcja celu, dodatkowe ograniczenia\n"
   ]
  },
  {
   "cell_type": "code",
   "execution_count": 3,
   "metadata": {},
   "outputs": [
    {
     "data": {
      "text/plain": [
       "1"
      ]
     },
     "execution_count": 3,
     "metadata": {},
     "output_type": "execute_result"
    }
   ],
   "source": [
    "czas_otwarcia_dni = LpVariable.dicts(\"czas_otwarcia\",((i) for i in dni), lowBound=0, cat=\"Integer\")\n",
    "czas_dostepnosc_tyg = LpVariable.dicts(\"dostepnosc\",((i) for i in osoby), lowBound=0, upBound=((j) for j in dostepnosc),cat=\"Integer\")\n",
    "czas_pracy_pon = LpVariable.dicts(\"czaspracy_pon\",((i) for i in osoby), lowBound=0,cat=\"Integer\")\n",
    "czas_pracy_wt = LpVariable.dicts(\"czaspracy_wt\",((i) for i in osoby), lowBound=0,cat=\"Integer\")\n",
    "czas_pracy_sr = LpVariable.dicts(\"czaspracy_sr\",((i) for i in osoby), lowBound=0,cat=\"Integer\")\n",
    "czas_pracy_cz = LpVariable.dicts(\"czaspracy_cz\",((i) for i in osoby), lowBound=0,cat=\"Integer\")\n",
    "czas_pracy_pt = LpVariable.dicts(\"czaspracy_pt\",((i) for i in osoby), lowBound=0,cat=\"Integer\")\n",
    "czas_pracy_sob = LpVariable.dicts(\"czaspracy_sob\",((i) for i in osoby), lowBound=0,cat=\"Integer\")\n",
    "czas_pracy_nd = LpVariable.dicts(\"czaspracy_nd\",((i) for i in osoby), lowBound=0,cat=\"Integer\")\n",
    "\n",
    "\n",
    "    \n",
    "\n",
    "\n",
    "\n",
    "\n",
    "\n",
    "\n",
    "\n",
    "#funkcja celu czyli koszt pracy każdej osoby w tyg -> to minimalizujemy\n",
    "prob+=(pulp.lpSum([(czas_pracy_pon[i]+czas_pracy_wt[i]+czas_pracy_sr[i]+czas_pracy_cz[i]+czas_pracy_pt[i]+czas_pracy_sob[i]+czas_pracy_nd[i]) *stawki[i]] for i in osoby ))\n",
    "\n",
    "\n",
    "\n",
    "\n",
    "#laczna suma pracy osob w każdym dniu rowna dlugosci otwarcia sklepu\n",
    "prob+=pulp.lpSum([czas_pracy_pon[i] for i in osoby])==godzinyOtwarcia[0]\n",
    "prob+=pulp.lpSum([czas_pracy_wt[i] for i in osoby])==godzinyOtwarcia[1]\n",
    "prob+=pulp.lpSum([czas_pracy_sr[i] for i in osoby])==godzinyOtwarcia[2]\n",
    "prob+=pulp.lpSum([czas_pracy_cz[i] for i in osoby])==godzinyOtwarcia[3]\n",
    "prob+=pulp.lpSum([czas_pracy_pt[i] for i in osoby])==godzinyOtwarcia[4]\n",
    "prob+=pulp.lpSum([czas_pracy_sob[i] for i in osoby])==godzinyOtwarcia[5]\n",
    "prob+=pulp.lpSum([czas_pracy_nd[i] for i in osoby])==godzinyOtwarcia[6]\n",
    "\n",
    "# dodaje ograniczenie w postaci suma czasu pracy osoby z tygodnia ma byc mniejsza bądź równa dostępności tej osoby\n",
    "j=0\n",
    "for i in osoby:\n",
    "    prob+=czas_pracy_pon[i]+czas_pracy_wt[i]+czas_pracy_sr[i]+czas_pracy_cz[i]+czas_pracy_pt[i]+czas_pracy_sob[i]+czas_pracy_nd[i]<=dostepnosc[j]\n",
    "    j+=1\n",
    "    \n",
    "    \n",
    "prob.solve()"
   ]
  },
  {
   "cell_type": "markdown",
   "metadata": {},
   "source": [
    "# Drukowanie informacji o problemie, liczbie godzin i dniu pracy"
   ]
  },
  {
   "cell_type": "code",
   "execution_count": 6,
   "metadata": {},
   "outputs": [
    {
     "name": "stdout",
     "output_type": "stream",
     "text": [
      "Status: Optimal\n",
      "czaspracy_pon_Ania = 8.0\n",
      "czaspracy_wt_Marcin = 4.0\n",
      "czaspracy_sr_Franek = 1.0\n",
      "czaspracy_sr_Zenon = 3.0\n",
      "czaspracy_cz_Franek = 4.0\n",
      "czaspracy_pt_Ania = 2.0\n",
      "czaspracy_pt_Franek = 4.0\n",
      "czaspracy_pt_Igor = 2.0\n",
      "czaspracy_sob_Zenon = 2.0\n",
      "\n",
      "Koszt zatrudnienia studentów to 2250.0 zł.  \n"
     ]
    }
   ],
   "source": [
    "print(\"Status:\", LpStatus[prob.status])\n",
    "for v in prob.variables():\n",
    "    if v.varValue != 0:\n",
    "            if (v.name.find(\"_pon\")>0):\n",
    "                print(v.name, \"=\", v.varValue)\n",
    "for v in prob.variables():\n",
    "    if v.varValue != 0:\n",
    "            if (v.name.find(\"_wt\")>0):\n",
    "                print(v.name, \"=\", v.varValue)             \n",
    "for v in prob.variables():\n",
    "    if v.varValue != 0:\n",
    "            if (v.name.find(\"_sr\")>0):\n",
    "                print(v.name, \"=\", v.varValue)  \n",
    "for v in prob.variables():\n",
    "    if v.varValue != 0:\n",
    "            if (v.name.find(\"_cz\")>0):\n",
    "                print(v.name, \"=\", v.varValue)   \n",
    "for v in prob.variables():\n",
    "    if v.varValue != 0:\n",
    "            if (v.name.find(\"_pt\")>0):\n",
    "                print(v.name, \"=\", v.varValue) \n",
    "for v in prob.variables():\n",
    "    if v.varValue != 0:\n",
    "            if (v.name.find(\"_sob\")>0):\n",
    "                print(v.name, \"=\", v.varValue)   \n",
    "for v in prob.variables():\n",
    "    if v.varValue != 0:\n",
    "            if (v.name.find(\"_nd\")>0):\n",
    "                print(v.name, \"=\", v.varValue)                  \n",
    "print(\"\\nKoszt zatrudnienia studentów to {} zł.  \".format( value(prob.objective)))"
   ]
  },
  {
   "cell_type": "code",
   "execution_count": null,
   "metadata": {},
   "outputs": [],
   "source": []
  }
 ],
 "metadata": {
  "kernelspec": {
   "display_name": "Python 3",
   "language": "python",
   "name": "python3"
  },
  "language_info": {
   "codemirror_mode": {
    "name": "ipython",
    "version": 3
   },
   "file_extension": ".py",
   "mimetype": "text/x-python",
   "name": "python",
   "nbconvert_exporter": "python",
   "pygments_lexer": "ipython3",
   "version": "3.7.4"
  }
 },
 "nbformat": 4,
 "nbformat_minor": 2
}
