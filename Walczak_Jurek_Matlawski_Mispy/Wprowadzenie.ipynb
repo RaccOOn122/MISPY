{
 "cells": [
  {
   "cell_type": "markdown",
   "metadata": {},
   "source": [
    "# Ćwiczenie 1 - wprowadzenie do języka Python"
   ]
  },
  {
   "cell_type": "markdown",
   "metadata": {},
   "source": [
    "Przygotowanie obiektu trzymającego dany dzień zajęć i przypisanie mu metody"
   ]
  },
  {
   "cell_type": "code",
   "execution_count": 2,
   "metadata": {},
   "outputs": [],
   "source": [
    "class DzienZajec():    \n",
    "    \n",
    "    def __init__(self, lista_na_dany_dzien, dzien):\n",
    "        self.lista_zajec= lista_na_dany_dzien\n",
    "        self.dzien = dzien\n",
    "        \n",
    "    def ile_zajec(self):\n",
    "        return len(self.lista_zajec)\n",
    "    \n",
    "    def ile_mispow(self):\n",
    "        ile_m = sum([1 for zajecie in self.lista_zajec if \"misp\" in zajecie])\n",
    "        return ile_m\n",
    "    \n",
    "    def __repr__(self):\n",
    "        zajecia_do_stringa = \", \".join(self.lista_zajec)\n",
    "        return \"W dzien {} mam zajecia: {}\".format(self.dzien, zajecia_do_stringa)"
   ]
  },
  {
   "cell_type": "markdown",
   "metadata": {},
   "source": [
    "# Cwiczenie 2 - rozpoznawanie numerów telefonów"
   ]
  },
  {
   "cell_type": "code",
   "execution_count": 3,
   "metadata": {},
   "outputs": [],
   "source": [
    "class Numer_Telefonu():\n",
    "    def __init__(self, numer_tel):\n",
    "        self.numer_cyfry = numer_tel\n",
    "        self.slownik = {\"1\":\"jeden\",\"2\":\"dwa\",\"3\":\"trzy\",\"4\":\"cztery\",\"5\":\"pięć\", \"6\":\"sześć\", \"7\":\"siedem\", \"8\":\"osiem\", \"9\":\"dziewięć\", \"0\":\"zero\"}\n",
    "        self.wojewodztwo = {\"22\":\"Warszawa\", \"42\":\"Lodz\", \"12\": \"Krakow\", \"13\": \"Krosno\", \"14\": \"Tarnow\", \"16\": \"Przemysl\", \"17\":\"Rzeszow\", \"18\":\"Nowy Sacz\", \"23\":\"Ciechanow\", \"24\":\"Plock\", \"25\":\"Siedlce\", \"29\":\"Ostroleka\", \"32\":\"Katowice\", \"33\":\"Bielsko Biala\", \"34\": \"Czestochowa\", \"41\": \"Kielce\", \"43\":\"Sieradz\", \"44\":\"Piotrkow Trybunalski\", \"46\":\"Skierniewice\", \"48\":\"Radom\", \"52\":\"Bydgoszcz\", \"54\":\"Włocławek\", \"55\":\"Elblag\", \"56\":\"Torun\", \"58\": \"Gdansk\", \"59\":\"Slupsk\",\"61\":\"Poznan\", \"62\":\"Kalisz\", \"63\":\"Konin\", \"65\": \"Leszno\",\"67\":\"Pila\",\"68\":\"Zielona Gora\", \"71\":\"Wroclaw\",\"74\":\"Walbrzych\",\"75\":\"Jelenia Gora\",\"76\":\"Legnica\"  }\n",
    "        \n",
    "    def dobry_rozmiar(self):\n",
    "        if len(self.numer_cyfry)!= 9:\n",
    "            print(\"error\")\n",
    "        \n",
    "        \n",
    "    def __repr__(self):\n",
    "        if len(self.numer_cyfry)!= 9:\n",
    "            print(\"error\")\n",
    "        else:\n",
    "            if self.numer_cyfry[:2] in self.wojewodztwo:\n",
    "                print(self.wojewodztwo[self.numer_cyfry[:2]])\n",
    "            else:\n",
    "                print(\"komórkowy\")\n",
    "            num_tel_zmiana = \"\"\n",
    "            for numery in self.numer_cyfry:\n",
    "                num_tel_zmiana+= (\" \"+self.slownik[numery])\n",
    "            return num_tel_zmiana\n",
    "    \n",
    "    "
   ]
  },
  {
   "cell_type": "markdown",
   "metadata": {},
   "source": [
    "Wprowadzenie numeru telefonu i sprawdzenie przygotowanego programu"
   ]
  },
  {
   "cell_type": "code",
   "execution_count": 4,
   "metadata": {},
   "outputs": [
    {
     "name": "stdout",
     "output_type": "stream",
     "text": [
      "Warszawa\n",
      " dwa dwa cztery sześć siedem jeden pięć dziewięć osiem\n"
     ]
    }
   ],
   "source": [
    "numer=Numer_Telefonu(\"224671598\")\n",
    "print(numer)"
   ]
  },
  {
   "cell_type": "code",
   "execution_count": null,
   "metadata": {},
   "outputs": [],
   "source": []
  }
 ],
 "metadata": {
  "kernelspec": {
   "display_name": "Python 3",
   "language": "python",
   "name": "python3"
  },
  "language_info": {
   "codemirror_mode": {
    "name": "ipython",
    "version": 3
   },
   "file_extension": ".py",
   "mimetype": "text/x-python",
   "name": "python",
   "nbconvert_exporter": "python",
   "pygments_lexer": "ipython3",
   "version": "3.7.4"
  }
 },
 "nbformat": 4,
 "nbformat_minor": 2
}
